{
 "cells": [
  {
   "cell_type": "code",
   "execution_count": 52,
   "metadata": {},
   "outputs": [],
   "source": [
    "from selenium import webdriver\n",
    "from selenium.webdriver.common.by import By\n",
    "import pandas as pd\n",
    "import requests\n",
    "import time"
   ]
  },
  {
   "cell_type": "code",
   "execution_count": 53,
   "metadata": {},
   "outputs": [],
   "source": [
    "driver = webdriver.Chrome()\n",
    "driver.get(\"https://www.jumia.com.eg/catalog/?q=phone\")"
   ]
  },
  {
   "cell_type": "code",
   "execution_count": 54,
   "metadata": {},
   "outputs": [],
   "source": [
    "height=0\n",
    "for i in range (11):\n",
    "    height=height+500\n",
    "    driver.execute_script(f\"window.scrollTo(0,{height});\")\n",
    "    time.sleep(1)"
   ]
  },
  {
   "cell_type": "code",
   "execution_count": 55,
   "metadata": {},
   "outputs": [],
   "source": [
    "products = driver.find_elements(By.XPATH, \"//article[@class='prd _fb col c-prd']\")\n",
    "product_data = []"
   ]
  },
  {
   "cell_type": "code",
   "execution_count": 56,
   "metadata": {},
   "outputs": [],
   "source": [
    "for product in products:\n",
    "    name = product.find_element(By.XPATH, \".//h3[@class='name']\").text\n",
    "    price = product.find_element(By.XPATH, \".//div[@class='prc']\").text.replace(\"EGP \", \"\")\n",
    "\n",
    "    \n",
    "    image_element = product.find_element(By.XPATH, \".//img[@class='img']\")\n",
    "    if image_element and 'src' in image_element.get_attribute('outerHTML'):\n",
    "        image_link = image_element.get_attribute('src')\n",
    "\n",
    "       \n",
    "        if image_link.startswith('data:image'):\n",
    "            print(f\"Skipping image with data URL: {image_link}\")\n",
    "            continue\n",
    "\n",
    "        response = requests.get(image_link, stream=True)\n",
    "        with open(f'img-{len(product_data)+1}.jpg', 'wb') as f:\n",
    "            for chunk in response.iter_content(chunk_size=128):\n",
    "                f.write(chunk)\n",
    "    else:\n",
    "        image_link = \"No image\"\n",
    "\n",
    "    \n",
    "    try:\n",
    "        phone_ratings = product.find_element(By.XPATH, \".//div[@class='stars _s']\").text\n",
    "        phone_rating_texts = [rating.split()[0] for rating in phone_ratings.split() if rating[0].isdigit()]\n",
    "        rating = phone_rating_texts[0] if phone_rating_texts else \"No rating\"\n",
    "    \n",
    "    except:\n",
    "        rating = \"No rating\"\n",
    "\n",
    "    if rating != \"No rating\":\n",
    "        product_data.append({\n",
    "            \"Product Name\": name,\n",
    "            \"Product Price (EGP)\": price,\n",
    "            \"Product Rating\": rating,\n",
    "            \"Product Image\": image_link\n",
    "            \n",
    "        })\n",
    "\n"
   ]
  },
  {
   "cell_type": "code",
   "execution_count": 57,
   "metadata": {},
   "outputs": [],
   "source": [
    "df = pd.DataFrame(product_data)"
   ]
  },
  {
   "cell_type": "code",
   "execution_count": 58,
   "metadata": {},
   "outputs": [],
   "source": [
    "df.to_csv('jumia_products_complete.csv', index=False, encoding='utf-8')"
   ]
  }
 ],
 "metadata": {
  "kernelspec": {
   "display_name": "Python 3",
   "language": "python",
   "name": "python3"
  },
  "language_info": {
   "codemirror_mode": {
    "name": "ipython",
    "version": 3
   },
   "file_extension": ".py",
   "mimetype": "text/x-python",
   "name": "python",
   "nbconvert_exporter": "python",
   "pygments_lexer": "ipython3",
   "version": "3.7.6"
  }
 },
 "nbformat": 4,
 "nbformat_minor": 4
}
